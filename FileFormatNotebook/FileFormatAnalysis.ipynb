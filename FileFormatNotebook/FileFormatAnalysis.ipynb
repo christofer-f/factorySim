{
 "cells": [
  {
   "cell_type": "code",
   "execution_count": 1,
   "metadata": {},
   "outputs": [],
   "source": [
    "import ifcopenshell\n",
    "import os\n",
    "\n",
    "ifc_file = ifcopenshell.open(os.path.join(os.path.dirname(os.path.expanduser(\"~\")),\"hendrik\",\"Qsync\",\"KI-Layout\",\"Input\",\"Overlapp.ifc\"))\n",
    "\n"
   ]
  },
  {
   "cell_type": "code",
   "execution_count": 62,
   "metadata": {},
   "outputs": [
    {
     "name": "stdout",
     "output_type": "stream",
     "text": [
      "3qLE9A2w56ggP$qW0sJQ0c\n",
      "   Aussenwand\n",
      "   0.0.0 - IfcFaceOuterBound\n",
      "   0.0.0 - ['Bound', 'LayerAssignments', 'Orientation', 'StyledByItem', '__class__', '__delattr__', '__dict__', '__dir__', '__doc__', '__eq__', '__format__', '__ge__', '__getattr__', '__getattribute__', '__getitem__', '__gt__', '__hash__', '__init__', '__init_subclass__', '__le__', '__len__', '__lt__', '__module__', '__ne__', '__new__', '__reduce__', '__reduce_ex__', '__repr__', '__setattr__', '__setitem__', '__sizeof__', '__str__', '__subclasshook__', '__weakref__', 'attribute_name', 'attribute_type', 'get_info', 'id', 'is_a', 'unwrap_value', 'walk', 'wrap_value']\n",
      "   0.0.1 - IfcFaceBound\n",
      "   0.0.1 - ['Bound', 'LayerAssignments', 'Orientation', 'StyledByItem', '__class__', '__delattr__', '__dict__', '__dir__', '__doc__', '__eq__', '__format__', '__ge__', '__getattr__', '__getattribute__', '__getitem__', '__gt__', '__hash__', '__init__', '__init_subclass__', '__le__', '__len__', '__lt__', '__module__', '__ne__', '__new__', '__reduce__', '__reduce_ex__', '__repr__', '__setattr__', '__setitem__', '__sizeof__', '__str__', '__subclasshook__', '__weakref__', 'attribute_name', 'attribute_type', 'get_info', 'id', 'is_a', 'unwrap_value', 'walk', 'wrap_value']\n",
      "End\n",
      "\n",
      "3yETv_RSPD6Rz$damBvnjI\n",
      "   Innenwand1\n",
      "   0.0.0 - IfcFaceOuterBound\n",
      "   0.0.0 - ['Bound', 'LayerAssignments', 'Orientation', 'StyledByItem', '__class__', '__delattr__', '__dict__', '__dir__', '__doc__', '__eq__', '__format__', '__ge__', '__getattr__', '__getattribute__', '__getitem__', '__gt__', '__hash__', '__init__', '__init_subclass__', '__le__', '__len__', '__lt__', '__module__', '__ne__', '__new__', '__reduce__', '__reduce_ex__', '__repr__', '__setattr__', '__setitem__', '__sizeof__', '__str__', '__subclasshook__', '__weakref__', 'attribute_name', 'attribute_type', 'get_info', 'id', 'is_a', 'unwrap_value', 'walk', 'wrap_value']\n",
      "End\n",
      "\n",
      "0dt6oh0ir0Tu8ZWAJighO9\n",
      "   Innenwand2\n",
      "   0.0.0 - IfcFaceOuterBound\n",
      "   0.0.0 - ['Bound', 'LayerAssignments', 'Orientation', 'StyledByItem', '__class__', '__delattr__', '__dict__', '__dir__', '__doc__', '__eq__', '__format__', '__ge__', '__getattr__', '__getattribute__', '__getitem__', '__gt__', '__hash__', '__init__', '__init_subclass__', '__le__', '__len__', '__lt__', '__module__', '__ne__', '__new__', '__reduce__', '__reduce_ex__', '__repr__', '__setattr__', '__setitem__', '__sizeof__', '__str__', '__subclasshook__', '__weakref__', 'attribute_name', 'attribute_type', 'get_info', 'id', 'is_a', 'unwrap_value', 'walk', 'wrap_value']\n",
      "End\n",
      "\n"
     ]
    }
   ],
   "source": [
    "elements = ifc_file.by_type('IFCWALL')\n",
    "\n",
    "for element in elements:\n",
    "    \n",
    "    print(element.GlobalId)\n",
    "    print(F\"   {element.Name}\")\n",
    "    #print(element)\n",
    "    #print(dir(element))\n",
    "    #print(element.Representation.Representations[0].Items[0].Outer.CfsFaces[0].Bounds[0].Bound.Polygon)\n",
    "    \n",
    "    items = element.Representation.Representations[0].Items\n",
    "    for i, item in enumerate(items):\n",
    "        loops = item.Outer.CfsFaces\n",
    "        for j, loop in enumerate(loops):\n",
    "            for k, element in enumerate(loop.Bounds):\n",
    "                print(F\"   {i}.{j}.{k} - {element.get_info()['type']}\")\n",
    "                print(F\"   {i}.{j}.{k} - {dir(element)}\")\n",
    "        \n",
    "    print(F\"End\")\n",
    "    print()"
   ]
  },
  {
   "cell_type": "markdown",
   "metadata": {},
   "source": [
    "\n"
   ]
  },
  {
   "cell_type": "code",
   "execution_count": 6,
   "metadata": {},
   "outputs": [
    {
     "name": "stdout",
     "output_type": "stream",
     "text": [
      "Aussenwand\n",
      "(#655=IfcFacetedBrep(#633),)\n",
      "\n",
      "Innenwand1\n",
      "(#686=IfcFacetedBrep(#678),)\n",
      "\n",
      "Innenwand2\n",
      "(#717=IfcFacetedBrep(#709),)\n",
      "\n"
     ]
    }
   ],
   "source": [
    "for element in elements:\n",
    "    print(element.Name)\n",
    "    print(element.Representation.Representations[0].Items)\n",
    "    #print(dir(element.ObjectPlacement.RelativePlacement.RefDirection.DirectionRatios))\n",
    "    #print(element.ObjectPlacement.RelativePlacement.RefDirection.DirectionRatios[1])\n",
    "    print(\"\")\n",
    "\n",
    "    #print(element.Representation.Representations[0].Items[0].Outer.CfsFaces[0].Bounds[0].Bound.Polygon)"
   ]
  },
  {
   "cell_type": "code",
   "execution_count": null,
   "metadata": {},
   "outputs": [],
   "source": []
  }
 ],
 "metadata": {
  "kernelspec": {
   "display_name": "Python 3",
   "language": "python",
   "name": "python3"
  },
  "language_info": {
   "codemirror_mode": {
    "name": "ipython",
    "version": 3
   },
   "file_extension": ".py",
   "mimetype": "text/x-python",
   "name": "python",
   "nbconvert_exporter": "python",
   "pygments_lexer": "ipython3",
   "version": "3.7.4"
  }
 },
 "nbformat": 4,
 "nbformat_minor": 4
}
